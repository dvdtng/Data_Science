{
 "cells": [
  {
   "cell_type": "markdown",
   "metadata": {
    "colab_type": "text",
    "id": "CPOXHysXKGLW"
   },
   "source": [
    "# RNN, LSTM\n",
    "# Training language model (Many-to-Many) and generating sequences (One-to-Many)\n",
    "\n",
    "### Objective:\n",
    "\n",
    "- We will train a network to learn a language model and then use it to generate new sequences.\n",
    "\n",
    "- Instead of training the language model on text-documents (as it is the case in most examples) we will train it to learn the language of the music of [Johann_Sebastian_Bach](https://en.wikipedia.org/wiki/Johann_Sebastian_Bach).\n",
    "For this, we will learn how J. S. Bach's \"Cello suite\" hav been composed.\n",
    "Here is an example of a \"Cello suite\" [Link](https://www.youtube.com/watch?v=mGQLXRTl3Z0).\n",
    "\n",
    "- Rather than analyzing the audio signal, we use a symbolic representation of the \"Cello suite\" through their [MIDI files](https://en.wikipedia.org/wiki/MIDI#MIDI_files).\n",
    "  - A MIDI file encodes in a file, the set of musical notes, their duration, and intensity which have to be played by each instrument to \"render\" a musical piece. The \"rendering\" is usually operated by a MIDI synthesizer (such as VLC, QuickTime).\n",
    "\n",
    "- We will first train a language model on the whole set of MIDI files of the \"Cello suites\". \n",
    "- We will then sample this language model to create a new MIDI file which will be a brand new \"Cello suite\" composed by the computer."
   ]
  },
  {
   "cell_type": "code",
   "execution_count": 29,
   "metadata": {
    "colab": {
     "base_uri": "https://localhost:8080/",
     "height": 55
    },
    "colab_type": "code",
    "collapsed": true,
    "executionInfo": {
     "elapsed": 799,
     "status": "ok",
     "timestamp": 1551892718989,
     "user": {
      "displayName": "David TANG",
      "photoUrl": "https://lh3.googleusercontent.com/-L1QWktrsYtA/AAAAAAAAAAI/AAAAAAAAB2w/KcoafjMd1MI/s64/photo.jpg",
      "userId": "06191415792561430410"
     },
     "user_tz": -60
    },
    "id": "18QY1QGV-NO9",
    "outputId": "bee75cb0-56cd-4b90-862c-73439f6f9900"
   },
   "outputs": [
    {
     "data": {
      "text/plain": [
       "\"\\nTO USE TPU INSTEAD OF GPU ON GOOGLE COLAB: 17 times fasters\\n===========================================================================\\nfrom tensorflow.keras import ... and Not from keras import..\\n===========================================================================\\n# This address identifies the TPU we'll use when configuring TensorFlow.\\nTPU_WORKER = 'grpc://' + os.environ['COLAB_TPU_ADDR']\\ntf.logging.set_verbosity(tf.logging.INFO)\\n===========================================================================\\ntpu_model = tf.contrib.tpu.keras_to_tpu_model(\\n    training_model, # replace training_model \\n    strategy=tf.contrib.tpu.TPUDistributionStrategy(\\n        tf.contrib.cluster_resolver.TPUClusterResolver(TPU_WORKER)))\\n===========================================================================\\n# compile and fit the model\\ntpu_model.compile(loss='categorical_crossentropy', optimizer='rmsprop', metrics=['accuracy'])\\ntpu_model.fit(X_train, y_train, \\n              epochs=50, \\n              batch_size=64)\\n\""
      ]
     },
     "execution_count": 29,
     "metadata": {
      "tags": []
     },
     "output_type": "execute_result"
    }
   ],
   "source": [
    "'''\n",
    "TO USE TPU INSTEAD OF GPU ON GOOGLE COLAB: 17 times faster\n",
    "===========================================================================\n",
    "from tensorflow.keras import ... \n",
    "===========================================================================\n",
    "# This address identifies the TPU we'll use when configuring TensorFlow.\n",
    "TPU_WORKER = 'grpc://' + os.environ['COLAB_TPU_ADDR']\n",
    "tf.logging.set_verbosity(tf.logging.INFO)\n",
    "===========================================================================\n",
    "tpu_model = tf.contrib.tpu.keras_to_tpu_model(\n",
    "    training_model, # replace training_model \n",
    "    strategy=tf.contrib.tpu.TPUDistributionStrategy(\n",
    "        tf.contrib.cluster_resolver.TPUClusterResolver(TPU_WORKER)))\n",
    "===========================================================================\n",
    "# compile and fit the model\n",
    "tpu_model.compile(loss='categorical_crossentropy', optimizer='rmsprop', metrics=['accuracy'])\n",
    "tpu_model.fit(X_train, y_train, \n",
    "              epochs=50, \n",
    "              batch_size=64)\n",
    "'''"
   ]
  },
  {
   "cell_type": "markdown",
   "metadata": {},
   "source": [
    "## Import packages"
   ]
  },
  {
   "cell_type": "code",
   "execution_count": 0,
   "metadata": {
    "colab": {},
    "colab_type": "code",
    "id": "IXocQU0HDntL"
   },
   "outputs": [],
   "source": [
    "import os\n",
    "import pretty_midi\n",
    "from scipy.io import wavfile \n",
    "import IPython\n",
    "import tensorflow as tf\n",
    "from tensorflow.keras.models import Sequential\n",
    "from tensorflow.keras.layers import Input, Dense, LSTM, Flatten, Dropout, Activation\n",
    "from tensorflow.keras import backend as K\n",
    "\n",
    "import matplotlib.pyplot as plt\n",
    "import numpy as np\n",
    "import glob"
   ]
  },
  {
   "cell_type": "code",
   "execution_count": 0,
   "metadata": {
    "colab": {},
    "colab_type": "code",
    "id": "pSL3sSop3qBs"
   },
   "outputs": [],
   "source": [
    "# This address identifies the TPU we'll use when configuring TensorFlow.\n",
    "TPU_WORKER = 'grpc://' + os.environ['COLAB_TPU_ADDR']\n",
    "tf.logging.set_verbosity(tf.logging.INFO)"
   ]
  },
  {
   "cell_type": "code",
   "execution_count": 0,
   "metadata": {
    "colab": {},
    "colab_type": "code",
    "id": "_gZx9igIOvtU"
   },
   "outputs": [],
   "source": [
    "n_x = 79\n",
    "max_T_x = 1000\n",
    "sequence_length = 20\n",
    "T_y_generated = 200"
   ]
  },
  {
   "cell_type": "markdown",
   "metadata": {
    "colab_type": "text",
    "id": "bgG1EmxKDhE5"
   },
   "source": [
    "## Collect data to create the language model\n",
    "\n",
    "We download the 36 MIDI files corresponding to the 36 \"Cello suites\" composed by J. S. Bach."
   ]
  },
  {
   "cell_type": "code",
   "execution_count": 33,
   "metadata": {
    "colab": {
     "base_uri": "https://localhost:8080/",
     "height": 55
    },
    "colab_type": "code",
    "executionInfo": {
     "elapsed": 4676,
     "status": "ok",
     "timestamp": 1551892727146,
     "user": {
      "displayName": "David TANG",
      "photoUrl": "https://lh3.googleusercontent.com/-L1QWktrsYtA/AAAAAAAAAAI/AAAAAAAAB2w/KcoafjMd1MI/s64/photo.jpg",
      "userId": "06191415792561430410"
     },
     "user_tz": -60
    },
    "id": "C9Tgx3ooDgSP",
    "outputId": "d7b14fbd-9946-449c-f587-bdddae951ee0"
   },
   "outputs": [
    {
     "name": "stdout",
     "output_type": "stream",
     "text": [
      "['./cs2-5men.mid', './cs2-3cou.mid', './cs5-1pre.mid', './cs5-5gav.mid', './cs6-2all.mid', './cs1-6gig.mid', './cs4-6gig.mid', './cs4-1pre.mid', './cs3-3cou.mid', './cs3-2all.mid', './cs4-4sar.mid', './cs2-2all.mid', './cs3-6gig.mid', './cs4-3cou.mid', './cs2-4sar.mid', './cs6-6gig.mid', './cs2-1pre.mid', './cs5-2all.mid', './cs3-4sar.mid', './cs5-4sar.mid', './cs1-4sar.mid', './cs2-6gig.mid', './cs6-4sar.mid', './cs1-1pre.mid', './cs6-5gav.mid', './cs3-5bou.mid', './cs6-3cou.mid', './cs6-1pre.mid', './cs4-5bou.mid', './cs5-6gig.mid', './cs1-2all.mid', './cs5-3cou.mid', './cs1-5men.mid', './cs4-2all.mid', './cs1-3cou.mid', './cs3-1pre.mid']\n"
     ]
    }
   ],
   "source": [
    "DIR = './'\n",
    "import urllib.request\n",
    "midiFile_l = ['cs1-2all.mid', 'cs5-1pre.mid', 'cs4-1pre.mid', 'cs3-5bou.mid', 'cs1-4sar.mid', 'cs2-5men.mid', 'cs3-3cou.mid', 'cs2-3cou.mid', 'cs1-6gig.mid', 'cs6-4sar.mid', 'cs4-5bou.mid', 'cs4-3cou.mid', 'cs5-3cou.mid', 'cs6-5gav.mid', 'cs6-6gig.mid', 'cs6-2all.mid', 'cs2-1pre.mid', 'cs3-1pre.mid', 'cs3-6gig.mid', 'cs2-6gig.mid', 'cs2-4sar.mid', 'cs3-4sar.mid', 'cs1-5men.mid', 'cs1-3cou.mid', 'cs6-1pre.mid', 'cs2-2all.mid', 'cs3-2all.mid', 'cs1-1pre.mid', 'cs5-2all.mid', 'cs4-2all.mid', 'cs5-5gav.mid', 'cs4-6gig.mid', 'cs5-6gig.mid', 'cs5-4sar.mid', 'cs4-4sar.mid', 'cs6-3cou.mid']\n",
    "for midiFile in midiFile_l:\n",
    "  #if os.path.isfile(DIR + midiFile) is None:\n",
    "  urllib.request.urlretrieve (\"http://www.jsbach.net/midi/\" + midiFile, DIR + midiFile)\n",
    "nbExample = len(midiFile_l)\n",
    "\n",
    "midiFile_l = glob.glob(DIR + 'cs*.mid')\n",
    "print(midiFile_l)"
   ]
  },
  {
   "cell_type": "markdown",
   "metadata": {
    "colab_type": "text",
    "id": "HgCE_6urcVsj"
   },
   "source": [
    "## Read and convert all MIDI files"
   ]
  },
  {
   "cell_type": "markdown",
   "metadata": {
    "colab_type": "text",
    "id": "mDofyEKjcd4E"
   },
   "source": [
    "We read all MIDI files and convert their content to one-hot-encoding matrix X_ohe of dimensions (T_x, n_x) where n_x is the number of possible musical notes.\n",
    "The duration of the sequences T_x can vary from one sequence to the other.\n",
    " \n"
   ]
  },
  {
   "cell_type": "code",
   "execution_count": 34,
   "metadata": {
    "colab": {
     "base_uri": "https://localhost:8080/",
     "height": 90
    },
    "colab_type": "code",
    "executionInfo": {
     "elapsed": 3061,
     "status": "ok",
     "timestamp": 1551892728315,
     "user": {
      "displayName": "David TANG",
      "photoUrl": "https://lh3.googleusercontent.com/-L1QWktrsYtA/AAAAAAAAAAI/AAAAAAAAB2w/KcoafjMd1MI/s64/photo.jpg",
      "userId": "06191415792561430410"
     },
     "user_tz": -60
    },
    "id": "EirVcbKxEe-3",
    "outputId": "376fde0d-0d54-4f8c-9ca2-548628998bb7"
   },
   "outputs": [
    {
     "name": "stdout",
     "output_type": "stream",
     "text": [
      "36\n",
      "(489, 79)\n",
      "(580, 79)\n",
      "(879, 79)\n"
     ]
    }
   ],
   "source": [
    "# We truncate the duration of each example to the first T_x data\n",
    "\n",
    "X_list = []\n",
    "\n",
    "for midiFile in midiFile_l:\n",
    "    # read the MIDI file\n",
    "    midi_data = pretty_midi.PrettyMIDI(midiFile)\n",
    "    note_l = [note.pitch for note in midi_data.instruments[0].notes]\n",
    "    # convert to one-hot-encoding\n",
    "    T_x = len(note_l)\n",
    "    if T_x > max_T_x:\n",
    "      T_x = max_T_x\n",
    "    X_ohe = np.zeros((T_x, n_x))\n",
    "    for t in range(T_x): \n",
    "      X_ohe[t, note_l[t]-1] = 1\n",
    "    # add to the list  \n",
    "    X_list.append(X_ohe)\n",
    "    \n",
    "print(len(X_list))\n",
    "print(X_list[0].shape)\n",
    "print(X_list[1].shape)\n",
    "print(X_list[2].shape)"
   ]
  },
  {
   "cell_type": "code",
   "execution_count": 35,
   "metadata": {
    "colab": {
     "base_uri": "https://localhost:8080/",
     "height": 672
    },
    "colab_type": "code",
    "executionInfo": {
     "elapsed": 1186,
     "status": "ok",
     "timestamp": 1551892728317,
     "user": {
      "displayName": "David TANG",
      "photoUrl": "https://lh3.googleusercontent.com/-L1QWktrsYtA/AAAAAAAAAAI/AAAAAAAAB2w/KcoafjMd1MI/s64/photo.jpg",
      "userId": "06191415792561430410"
     },
     "user_tz": -60
    },
    "id": "BqPgmW2buPQ6",
    "outputId": "365fae26-22a6-47d9-c150-4cf436bf35d3",
    "scrolled": true
   },
   "outputs": [
    {
     "name": "stdout",
     "output_type": "stream",
     "text": [
      "(489, 79)\n",
      "(580, 79)\n",
      "(879, 79)\n",
      "(1000, 79)\n",
      "(936, 79)\n",
      "(420, 79)\n",
      "(966, 79)\n",
      "(789, 79)\n",
      "(984, 79)\n",
      "(922, 79)\n",
      "(158, 79)\n",
      "(670, 79)\n",
      "(644, 79)\n",
      "(902, 79)\n",
      "(328, 79)\n",
      "(1000, 79)\n",
      "(634, 79)\n",
      "(372, 79)\n",
      "(196, 79)\n",
      "(216, 79)\n",
      "(260, 79)\n",
      "(690, 79)\n",
      "(162, 79)\n",
      "(593, 79)\n",
      "(755, 79)\n",
      "(872, 79)\n",
      "(1000, 79)\n",
      "(1000, 79)\n",
      "(1000, 79)\n",
      "(436, 79)\n",
      "(914, 79)\n",
      "(352, 79)\n",
      "(642, 79)\n",
      "(1000, 79)\n",
      "(812, 79)\n",
      "(928, 79)\n"
     ]
    }
   ],
   "source": [
    "for sequence in X_list:\n",
    "  print(sequence.shape)"
   ]
  },
  {
   "cell_type": "markdown",
   "metadata": {
    "colab_type": "text",
    "id": "nSf8RDL5cv7V"
   },
   "source": [
    "## Display the set of notes over time for a specific track "
   ]
  },
  {
   "cell_type": "code",
   "execution_count": 36,
   "metadata": {
    "colab": {
     "base_uri": "https://localhost:8080/",
     "height": 376
    },
    "colab_type": "code",
    "executionInfo": {
     "elapsed": 857,
     "status": "ok",
     "timestamp": 1551892728715,
     "user": {
      "displayName": "David TANG",
      "photoUrl": "https://lh3.googleusercontent.com/-L1QWktrsYtA/AAAAAAAAAAI/AAAAAAAAB2w/KcoafjMd1MI/s64/photo.jpg",
      "userId": "06191415792561430410"
     },
     "user_tz": -60
    },
    "id": "M6x71M5OoBhA",
    "outputId": "8c227dcf-f083-43c1-bac2-4f2a1dd2535f"
   },
   "outputs": [
    {
     "data": {
      "image/png": "[encoded data removed]",
      "text/plain": [
       "<Figure size 1152x432 with 1 Axes>"
      ]
     },
     "metadata": {
      "tags": []
     },
     "output_type": "display_data"
    }
   ],
   "source": [
    "plt.figure(figsize=(16, 6))\n",
    "plt.imshow(X_list[2].T, aspect='auto')\n",
    "plt.set_cmap('gray_r')\n",
    "plt.grid(True)"
   ]
  },
  {
   "cell_type": "markdown",
   "metadata": {
    "colab_type": "text",
    "id": "PMHtioR_c5y3"
   },
   "source": [
    "## Data conversion for the training of language model\n",
    "\n",
    "For each example/sequence and each possible starting note in this example/sequence, we create two sequences\n",
    "- an input sequence: \n",
    "  - which contains a sub-sequence of length ```sequence_length```;  this sub-sequence range from the note $t$ to the note $t+sequence\\_length-1$\n",
    "- an output sequence:\n",
    "  - which contains the following note to be predicted, the one at position $t+sequence\\_length$\n",
    "\n",
    "The training is therefore performed by giving to the model a set of sequences as input and asking the network to predict each time the note that should come right after this sequence."
   ]
  },
  {
   "cell_type": "code",
   "execution_count": 37,
   "metadata": {
    "colab": {
     "base_uri": "https://localhost:8080/",
     "height": 54
    },
    "colab_type": "code",
    "executionInfo": {
     "elapsed": 832,
     "status": "ok",
     "timestamp": 1551892729526,
     "user": {
      "displayName": "David TANG",
      "photoUrl": "https://lh3.googleusercontent.com/-L1QWktrsYtA/AAAAAAAAAAI/AAAAAAAAB2w/KcoafjMd1MI/s64/photo.jpg",
      "userId": "06191415792561430410"
     },
     "user_tz": -60
    },
    "id": "DCeRPMEMzbZR",
    "outputId": "e0676314-91e6-48c3-bcea-618c05da9f78"
   },
   "outputs": [
    {
     "name": "stdout",
     "output_type": "stream",
     "text": [
      "X_train.shape: (23781, 20, 79)\n",
      "y_train.shape: (23781, 79)\n"
     ]
    }
   ],
   "source": [
    "X_train_list = []\n",
    "y_train_list = []\n",
    "\n",
    "# CODE-RNN2-1\n",
    "\n",
    "for seq in X_list:\n",
    "  for n in range(len(seq)-sequence_length):\n",
    "    X_train_list.append(seq[n:n+sequence_length])\n",
    "    y_train_list.append(seq[n+sequence_length])\n",
    "\n",
    "X_train = np.asarray(X_train_list)\n",
    "y_train = np.asarray(y_train_list)\n",
    "\n",
    "print(\"X_train.shape:\", X_train.shape)\n",
    "print(\"y_train.shape:\", y_train.shape)"
   ]
  },
  {
   "cell_type": "markdown",
   "metadata": {
    "colab_type": "text",
    "id": "HhNPrmvveuH3"
   },
   "source": [
    "# Training the language model\n",
    "\n",
    "The language model will be learned by training an RNN with input ```X_train``` and output ```Y_train```:  for each of the examples of sequences, we give to the network a sequence of notes of ```sequence_length``` duration, and ask the network to predict the following note of each sequence.\n",
    "\n",
    "The network will have the following structure\n",
    "- a layer of ```LSTM``` with $n_a$=256\n",
    "- a DropOut layer with rate 0.3 (the probability to \"drop-out\" one neuron is 0.3)\n",
    "- a second layer of ```LSTM``` with $n_a$=256\n",
    "- a DropOut layer with rate 0.3 (the probability to \"drop-out\" one neuron is 0.3)\n",
    "- a ```Dense``` layer with 256 units\n",
    "- a DropOut layer with rate 0.3 (the probability to \"drop-out\" one neuron is 0.3)\n",
    "- a ``Dense``` layer with a ```softmax``` activation which predict the probability of each of the $n_x$ notes as output\n",
    "\n",
    "Note that because we will stack two LSTM layers on top of each other (deep-RNN), we need to tell the first LSTM to output its hidden states at each time $t$. This is done by the option ```return_sequences=True``` that has to be given to the first LSTM.\n",
    "\n",
    "This is not the case of the second LSTM since we are only interrest in its final prediction (hence ```return_sequences=False``` which is the default behaviour)."
   ]
  },
  {
   "cell_type": "code",
   "execution_count": 38,
   "metadata": {
    "colab": {
     "base_uri": "https://localhost:8080/",
     "height": 490
    },
    "colab_type": "code",
    "executionInfo": {
     "elapsed": 2597,
     "status": "ok",
     "timestamp": 1551892732419,
     "user": {
      "displayName": "David TANG",
      "photoUrl": "https://lh3.googleusercontent.com/-L1QWktrsYtA/AAAAAAAAAAI/AAAAAAAAB2w/KcoafjMd1MI/s64/photo.jpg",
      "userId": "06191415792561430410"
     },
     "user_tz": -60
    },
    "id": "6r7G3I5PxMFy",
    "outputId": "ba0d53ef-e26c-4061-dbbb-4e4c6df0d69f"
   },
   "outputs": [
    {
     "name": "stdout",
     "output_type": "stream",
     "text": [
      "_________________________________________________________________\n",
      "Layer (type)                 Output Shape              Param #   \n",
      "=================================================================\n",
      "lstm (LSTM)                  (None, 20, 256)           344064    \n",
      "_________________________________________________________________\n",
      "dropout (Dropout)            (None, 20, 256)           0         \n",
      "_________________________________________________________________\n",
      "lstm_1 (LSTM)                (None, 20, 256)           525312    \n",
      "_________________________________________________________________\n",
      "dropout_1 (Dropout)          (None, 20, 256)           0         \n",
      "_________________________________________________________________\n",
      "lstm_2 (LSTM)                (None, 256)               525312    \n",
      "_________________________________________________________________\n",
      "dense (Dense)                (None, 256)               65792     \n",
      "_________________________________________________________________\n",
      "dropout_2 (Dropout)          (None, 256)               0         \n",
      "_________________________________________________________________\n",
      "dense_1 (Dense)              (None, 79)                20303     \n",
      "_________________________________________________________________\n",
      "activation (Activation)      (None, 79)                0         \n",
      "=================================================================\n",
      "Total params: 1,480,783\n",
      "Trainable params: 1,480,783\n",
      "Non-trainable params: 0\n",
      "_________________________________________________________________\n",
      "None\n"
     ]
    }
   ],
   "source": [
    "# create the model\n",
    "K.clear_session()\n",
    "\n",
    "model = Sequential()\n",
    "\n",
    "''' First LSTM Layer\n",
    "tell the first LSTM to output its hidden states at each time  t\n",
    "input_dim / input_shape argument is required when using this as the first layer in the model\n",
    "Sequences must have length and features, your input shape must contain these two: input_shape=(length, features).\n",
    "Your data must also be shaped accordingly, with (sequences, length, features).\n",
    "For variable lengths, you may use input_shape=(None,features)\n",
    "'''\n",
    "model.add(LSTM(256, return_sequences=True, input_shape=(sequence_length, n_x)))\n",
    "\n",
    "model.add(Dropout(rate=0.3))\n",
    "\n",
    "model.add(LSTM(256, return_sequences=True))\n",
    "\n",
    "model.add(Dropout(rate=0.3))\n",
    "\n",
    "model.add(LSTM(256))\n",
    "\n",
    "model.add(Dense(units=256))\n",
    "\n",
    "model.add(Dropout(rate=0.3))\n",
    "\n",
    "model.add(Dense(units=79))\n",
    "\n",
    "model.add(Activation('softmax'))\n",
    "\n",
    "'''\n",
    "To reach the expected outcome, I have added to the model :\n",
    "a third LSTM layer, plus a softmax activation layer\n",
    "'''\n",
    "\n",
    "print(model.summary())"
   ]
  },
  {
   "cell_type": "code",
   "execution_count": 39,
   "metadata": {
    "colab": {
     "base_uri": "https://localhost:8080/",
     "height": 326
    },
    "colab_type": "code",
    "executionInfo": {
     "elapsed": 9321,
     "status": "ok",
     "timestamp": 1551892741424,
     "user": {
      "displayName": "David TANG",
      "photoUrl": "https://lh3.googleusercontent.com/-L1QWktrsYtA/AAAAAAAAAAI/AAAAAAAAB2w/KcoafjMd1MI/s64/photo.jpg",
      "userId": "06191415792561430410"
     },
     "user_tz": -60
    },
    "id": "WGz9zuDn83ne",
    "outputId": "8cf427cd-b028-43dd-c3ec-03a797e91544",
    "scrolled": true
   },
   "outputs": [
    {
     "name": "stdout",
     "output_type": "stream",
     "text": [
      "INFO:tensorflow:Querying Tensorflow master (grpc://10.60.156.66:8470) for TPU system metadata.\n",
      "INFO:tensorflow:Found TPU system:\n",
      "INFO:tensorflow:*** Num TPU Cores: 8\n",
      "INFO:tensorflow:*** Num TPU Workers: 1\n",
      "INFO:tensorflow:*** Num TPU Cores Per Worker: 8\n",
      "INFO:tensorflow:*** Available Device: _DeviceAttributes(/job:worker/replica:0/task:0/device:CPU:0, CPU, -1, 1991208873996458774)\n",
      "INFO:tensorflow:*** Available Device: _DeviceAttributes(/job:worker/replica:0/task:0/device:XLA_CPU:0, XLA_CPU, 17179869184, 14464666263204255696)\n",
      "INFO:tensorflow:*** Available Device: _DeviceAttributes(/job:worker/replica:0/task:0/device:TPU:0, TPU, 17179869184, 12729222676340202704)\n",
      "INFO:tensorflow:*** Available Device: _DeviceAttributes(/job:worker/replica:0/task:0/device:TPU:1, TPU, 17179869184, 5661956256990119496)\n",
      "INFO:tensorflow:*** Available Device: _DeviceAttributes(/job:worker/replica:0/task:0/device:TPU:2, TPU, 17179869184, 7809954055122971376)\n",
      "INFO:tensorflow:*** Available Device: _DeviceAttributes(/job:worker/replica:0/task:0/device:TPU:3, TPU, 17179869184, 17947915966379439013)\n",
      "INFO:tensorflow:*** Available Device: _DeviceAttributes(/job:worker/replica:0/task:0/device:TPU:4, TPU, 17179869184, 16282433634633693488)\n",
      "INFO:tensorflow:*** Available Device: _DeviceAttributes(/job:worker/replica:0/task:0/device:TPU:5, TPU, 17179869184, 9952559537760112983)\n",
      "INFO:tensorflow:*** Available Device: _DeviceAttributes(/job:worker/replica:0/task:0/device:TPU:6, TPU, 17179869184, 957843173012709344)\n",
      "INFO:tensorflow:*** Available Device: _DeviceAttributes(/job:worker/replica:0/task:0/device:TPU:7, TPU, 17179869184, 1958749425410418883)\n",
      "INFO:tensorflow:*** Available Device: _DeviceAttributes(/job:worker/replica:0/task:0/device:TPU_SYSTEM:0, TPU_SYSTEM, 17179869184, 12044623337263542365)\n",
      "WARNING:tensorflow:tpu_model (from tensorflow.contrib.tpu.python.tpu.keras_support) is experimental and may change or be removed at any time, and without warning.\n"
     ]
    }
   ],
   "source": [
    "tpu_model = tf.contrib.tpu.keras_to_tpu_model(\n",
    "    model,\n",
    "    strategy=tf.contrib.tpu.TPUDistributionStrategy(\n",
    "        tf.contrib.cluster_resolver.TPUClusterResolver(TPU_WORKER)))"
   ]
  },
  {
   "cell_type": "code",
   "execution_count": 40,
   "metadata": {
    "colab": {
     "base_uri": "https://localhost:8080/",
     "height": 2201
    },
    "colab_type": "code",
    "executionInfo": {
     "elapsed": 423782,
     "status": "ok",
     "timestamp": 1551893158483,
     "user": {
      "displayName": "David TANG",
      "photoUrl": "https://lh3.googleusercontent.com/-L1QWktrsYtA/AAAAAAAAAAI/AAAAAAAAB2w/KcoafjMd1MI/s64/photo.jpg",
      "userId": "06191415792561430410"
     },
     "user_tz": -60
    },
    "id": "yhWTNfIbFDmf",
    "outputId": "40638eeb-1d00-40b2-f405-251ef7f4ab59",
    "scrolled": true
   },
   "outputs": [
    {
     "name": "stdout",
     "output_type": "stream",
     "text": [
      "Epoch 1/50\n",
      "INFO:tensorflow:New input shapes; (re-)compiling: mode=train (# of cores 8), [TensorSpec(shape=(8,), dtype=tf.int32, name='core_id0'), TensorSpec(shape=(8, 20, 79), dtype=tf.float32, name='lstm_input_10'), TensorSpec(shape=(8, 79), dtype=tf.float32, name='activation_target_10')]\n",
      "INFO:tensorflow:Overriding default placeholder.\n",
      "INFO:tensorflow:Cloning RMSprop {'lr': 0.0010000000474974513, 'rho': 0.8999999761581421, 'decay': 0.0, 'epsilon': 1e-07}\n",
      "INFO:tensorflow:Remapping placeholder for lstm_input\n",
      "INFO:tensorflow:KerasCrossShard: <tensorflow.python.keras.optimizers.RMSprop object at 0x7f799d62fb00> []\n",
      "INFO:tensorflow:Started compiling\n",
      "INFO:tensorflow:Finished compiling. Time elapsed: 5.997598886489868 secs\n",
      "INFO:tensorflow:Setting weights on TPU model.\n",
      "INFO:tensorflow:CPU -> TPU lr: 0.0010000000474974513 {0.001}\n",
      "INFO:tensorflow:CPU -> TPU rho: 0.8999999761581421 {0.9}\n",
      "INFO:tensorflow:CPU -> TPU decay: 0.0 {0.0}\n",
      "WARNING:tensorflow:Cannot update non-variable config: epsilon\n",
      "23680/23781 [============================>.] - ETA: 0s - loss: 2.9159 - acc: 0.1185INFO:tensorflow:New input shapes; (re-)compiling: mode=train (# of cores 8), [TensorSpec(shape=(4,), dtype=tf.int32, name='core_id0'), TensorSpec(shape=(4, 20, 79), dtype=tf.float32, name='lstm_input_10'), TensorSpec(shape=(4, 79), dtype=tf.float32, name='activation_target_10')]\n",
      "INFO:tensorflow:Overriding default placeholder.\n",
      "INFO:tensorflow:Remapping placeholder for lstm_input\n",
      "INFO:tensorflow:KerasCrossShard: <tensorflow.python.keras.optimizers.RMSprop object at 0x7f799d62fb00> [<tensorflow.contrib.tpu.python.tpu.keras_tpu_variables.ReplicatedVariable object at 0x7f799a905208>, <tensorflow.contrib.tpu.python.tpu.keras_tpu_variables.ReplicatedVariable object at 0x7f799a9057f0>, <tensorflow.contrib.tpu.python.tpu.keras_tpu_variables.ReplicatedVariable object at 0x7f799a905a58>, <tensorflow.contrib.tpu.python.tpu.keras_tpu_variables.ReplicatedVariable object at 0x7f799a8e6e10>, <tensorflow.contrib.tpu.python.tpu.keras_tpu_variables.ReplicatedVariable object at 0x7f799a832128>, <tensorflow.contrib.tpu.python.tpu.keras_tpu_variables.ReplicatedVariable object at 0x7f799a800080>, <tensorflow.contrib.tpu.python.tpu.keras_tpu_variables.ReplicatedVariable object at 0x7f799a7cdeb8>, <tensorflow.contrib.tpu.python.tpu.keras_tpu_variables.ReplicatedVariable object at 0x7f799a7406a0>, <tensorflow.contrib.tpu.python.tpu.keras_tpu_variables.ReplicatedVariable object at 0x7f799a70b048>, <tensorflow.contrib.tpu.python.tpu.keras_tpu_variables.ReplicatedVariable object at 0x7f799a6d4748>, <tensorflow.contrib.tpu.python.tpu.keras_tpu_variables.ReplicatedVariable object at 0x7f799a6a15c0>, <tensorflow.contrib.tpu.python.tpu.keras_tpu_variables.ReplicatedVariable object at 0x7f799a5ed898>, <tensorflow.contrib.tpu.python.tpu.keras_tpu_variables.ReplicatedVariable object at 0x7f799a5e0ef0>]\n",
      "INFO:tensorflow:Started compiling\n",
      "INFO:tensorflow:Finished compiling. Time elapsed: 10.184669733047485 secs\n",
      "23781/23781 [==============================] - 50s 2ms/sample - loss: 2.9150 - acc: 0.1184\n",
      "Epoch 2/50\n",
      "23781/23781 [==============================] - 7s 304us/sample - loss: 2.6047 - acc: 0.1641\n",
      "Epoch 3/50\n",
      "23781/23781 [==============================] - 7s 311us/sample - loss: 2.5320 - acc: 0.1859\n",
      "Epoch 4/50\n",
      "23781/23781 [==============================] - 8s 317us/sample - loss: 2.4655 - acc: 0.2238\n",
      "Epoch 5/50\n",
      "23781/23781 [==============================] - 7s 309us/sample - loss: 2.3826 - acc: 0.2630\n",
      "Epoch 6/50\n",
      "23781/23781 [==============================] - 7s 309us/sample - loss: 2.2712 - acc: 0.3025\n",
      "Epoch 7/50\n",
      "23781/23781 [==============================] - 7s 308us/sample - loss: 2.1591 - acc: 0.3390\n",
      "Epoch 8/50\n",
      "23781/23781 [==============================] - 7s 306us/sample - loss: 2.0290 - acc: 0.3821\n",
      "Epoch 9/50\n",
      "23781/23781 [==============================] - 7s 312us/sample - loss: 1.8810 - acc: 0.4253\n",
      "Epoch 10/50\n",
      "23781/23781 [==============================] - 7s 310us/sample - loss: 1.7105 - acc: 0.4731\n",
      "Epoch 11/50\n",
      "23781/23781 [==============================] - 7s 308us/sample - loss: 1.5278 - acc: 0.5286\n",
      "Epoch 12/50\n",
      "23781/23781 [==============================] - 7s 307us/sample - loss: 1.3360 - acc: 0.5877\n",
      "Epoch 13/50\n",
      "23781/23781 [==============================] - 7s 294us/sample - loss: 1.1485 - acc: 0.6414\n",
      "Epoch 14/50\n",
      "23781/23781 [==============================] - 7s 303us/sample - loss: 0.9741 - acc: 0.6950\n",
      "Epoch 15/50\n",
      "23781/23781 [==============================] - 7s 308us/sample - loss: 0.8202 - acc: 0.7394\n",
      "Epoch 16/50\n",
      "23781/23781 [==============================] - 7s 305us/sample - loss: 0.7092 - acc: 0.7764\n",
      "Epoch 17/50\n",
      "23781/23781 [==============================] - 7s 306us/sample - loss: 0.5983 - acc: 0.8113\n",
      "Epoch 18/50\n",
      "23781/23781 [==============================] - 7s 312us/sample - loss: 0.5190 - acc: 0.8334\n",
      "Epoch 19/50\n",
      "23781/23781 [==============================] - 7s 312us/sample - loss: 0.4611 - acc: 0.8546\n",
      "Epoch 20/50\n",
      "23781/23781 [==============================] - 7s 311us/sample - loss: 0.4161 - acc: 0.8680\n",
      "Epoch 21/50\n",
      "23781/23781 [==============================] - 7s 308us/sample - loss: 0.3667 - acc: 0.8821\n",
      "Epoch 22/50\n",
      "23781/23781 [==============================] - 7s 305us/sample - loss: 0.3290 - acc: 0.8941\n",
      "Epoch 23/50\n",
      "23781/23781 [==============================] - 7s 305us/sample - loss: 0.3042 - acc: 0.8994\n",
      "Epoch 24/50\n",
      "23781/23781 [==============================] - 7s 313us/sample - loss: 0.2821 - acc: 0.9090\n",
      "Epoch 25/50\n",
      "23781/23781 [==============================] - 7s 308us/sample - loss: 0.2602 - acc: 0.9157\n",
      "Epoch 26/50\n",
      "23781/23781 [==============================] - 7s 307us/sample - loss: 0.2453 - acc: 0.9219\n",
      "Epoch 27/50\n",
      "23781/23781 [==============================] - 7s 313us/sample - loss: 0.2278 - acc: 0.9288\n",
      "Epoch 28/50\n",
      "23781/23781 [==============================] - 7s 311us/sample - loss: 0.2162 - acc: 0.9299\n",
      "Epoch 29/50\n",
      "23781/23781 [==============================] - 7s 299us/sample - loss: 0.2115 - acc: 0.9338\n",
      "Epoch 30/50\n",
      "23781/23781 [==============================] - 7s 315us/sample - loss: 0.1920 - acc: 0.9387\n",
      "Epoch 31/50\n",
      "23781/23781 [==============================] - 7s 312us/sample - loss: 0.1804 - acc: 0.9431\n",
      "Epoch 32/50\n",
      "23781/23781 [==============================] - 7s 309us/sample - loss: 0.1819 - acc: 0.9416\n",
      "Epoch 33/50\n",
      "23781/23781 [==============================] - 7s 313us/sample - loss: 0.1732 - acc: 0.9449\n",
      "Epoch 34/50\n",
      "23781/23781 [==============================] - 7s 306us/sample - loss: 0.1685 - acc: 0.9474\n",
      "Epoch 35/50\n",
      "23781/23781 [==============================] - 7s 291us/sample - loss: 0.1579 - acc: 0.9514\n",
      "Epoch 36/50\n",
      "23781/23781 [==============================] - 7s 304us/sample - loss: 0.1452 - acc: 0.9552\n",
      "Epoch 37/50\n",
      "23781/23781 [==============================] - 7s 308us/sample - loss: 0.1563 - acc: 0.9520\n",
      "Epoch 38/50\n",
      "23781/23781 [==============================] - 7s 311us/sample - loss: 0.1469 - acc: 0.9556\n",
      "Epoch 39/50\n",
      "23781/23781 [==============================] - 7s 307us/sample - loss: 0.1392 - acc: 0.9562\n",
      "Epoch 40/50\n",
      "23781/23781 [==============================] - 7s 311us/sample - loss: 0.1326 - acc: 0.9594\n",
      "Epoch 41/50\n",
      "23781/23781 [==============================] - 7s 305us/sample - loss: 0.1262 - acc: 0.9604\n",
      "Epoch 42/50\n",
      "23781/23781 [==============================] - 7s 312us/sample - loss: 0.1305 - acc: 0.9597\n",
      "Epoch 43/50\n",
      "23781/23781 [==============================] - 7s 307us/sample - loss: 0.1295 - acc: 0.9585\n",
      "Epoch 44/50\n",
      "23781/23781 [==============================] - 7s 310us/sample - loss: 0.1190 - acc: 0.9653\n",
      "Epoch 45/50\n",
      "23781/23781 [==============================] - 7s 305us/sample - loss: 0.1228 - acc: 0.9616\n",
      "Epoch 46/50\n",
      "23781/23781 [==============================] - 7s 289us/sample - loss: 0.1169 - acc: 0.9648\n",
      "Epoch 47/50\n",
      "23781/23781 [==============================] - 7s 302us/sample - loss: 0.1131 - acc: 0.9657\n",
      "Epoch 48/50\n",
      "23781/23781 [==============================] - 7s 304us/sample - loss: 0.1126 - acc: 0.9653\n",
      "Epoch 49/50\n",
      "23781/23781 [==============================] - 7s 302us/sample - loss: 0.1107 - acc: 0.9658\n",
      "Epoch 50/50\n",
      "23781/23781 [==============================] - 7s 306us/sample - loss: 0.1089 - acc: 0.9661\n"
     ]
    },
    {
     "data": {
      "text/plain": [
       "<tensorflow.python.keras.callbacks.History at 0x7f799d706b38>"
      ]
     },
     "execution_count": 40,
     "metadata": {
      "tags": []
     },
     "output_type": "execute_result"
    }
   ],
   "source": [
    "# compile and fit the model\n",
    "tpu_model.compile(loss='categorical_crossentropy', optimizer='rmsprop', metrics=['accuracy'])\n",
    "tpu_model.fit(X_train, y_train, \n",
    "              epochs=50, \n",
    "              batch_size=64)"
   ]
  },
  {
   "cell_type": "markdown",
   "metadata": {
    "colab_type": "text",
    "id": "xM6g1YR3gtcO"
   },
   "source": [
    "# Generating a new sequence from sampling the language model\n",
    "\n",
    "To generate a new sequence from the language model, we simply give it as input a random sequence of duration ```sequence_length```and ask the trained network to predict the output (using ```model.predict```). \n",
    "\n",
    "The output of the network is a vector of probability of dimension $n_x$ which represents the probability of each note to be the next note of the melody given as input.\n",
    "\n",
    "From this vector, we select the note which has the maximum probability.\n",
    "\n",
    "We then concatenate this new note (its one-hot-encoding representation) at the end of the input sequence.\n",
    "We finally remove the first element of the input sequence to keep its duration constant (```sequence_length```).\n",
    "\n",
    "Instead of providing a random sequence as input, we rather randomly select one sequence out of the 2880 sequences used for training.\n",
    "We denote it by ```pattern```.\n",
    "\n"
   ]
  },
  {
   "cell_type": "code",
   "execution_count": 41,
   "metadata": {
    "colab": {
     "base_uri": "https://localhost:8080/",
     "height": 72
    },
    "colab_type": "code",
    "executionInfo": {
     "elapsed": 585,
     "status": "ok",
     "timestamp": 1551893199133,
     "user": {
      "displayName": "David TANG",
      "photoUrl": "https://lh3.googleusercontent.com/-L1QWktrsYtA/AAAAAAAAAAI/AAAAAAAAB2w/KcoafjMd1MI/s64/photo.jpg",
      "userId": "06191415792561430410"
     },
     "user_tz": -60
    },
    "id": "_YHXTohsFGCX",
    "outputId": "9c1615c0-dabb-4f54-d476-0635c59a568f"
   },
   "outputs": [
    {
     "name": "stdout",
     "output_type": "stream",
     "text": [
      "21285\n",
      "(20, 79)\n",
      "(1, 20, 79)\n"
     ]
    }
   ],
   "source": [
    "# --- select a random starting pattern\n",
    "start = np.random.randint(0, len(X_train_list)-1)\n",
    "pattern = X_train_list[start]\n",
    "\n",
    "print(start)\n",
    "print(pattern.shape)\n",
    "print(np.expand_dims(pattern, 0).shape)"
   ]
  },
  {
   "cell_type": "code",
   "execution_count": 42,
   "metadata": {
    "colab": {
     "base_uri": "https://localhost:8080/",
     "height": 126
    },
    "colab_type": "code",
    "executionInfo": {
     "elapsed": 26473,
     "status": "ok",
     "timestamp": 1551893227550,
     "user": {
      "displayName": "David TANG",
      "photoUrl": "https://lh3.googleusercontent.com/-L1QWktrsYtA/AAAAAAAAAAI/AAAAAAAAB2w/KcoafjMd1MI/s64/photo.jpg",
      "userId": "06191415792561430410"
     },
     "user_tz": -60
    },
    "id": "hsQ3_5DLAksx",
    "outputId": "79b816c1-618d-485c-b113-006cff76c682"
   },
   "outputs": [
    {
     "name": "stdout",
     "output_type": "stream",
     "text": [
      "INFO:tensorflow:Copying TPU weights to the CPU\n",
      "INFO:tensorflow:TPU -> CPU lr: 0.0010000000474974513\n",
      "INFO:tensorflow:TPU -> CPU rho: 0.8999999761581421\n",
      "INFO:tensorflow:TPU -> CPU decay: 0.0\n",
      "INFO:tensorflow:TPU -> CPU epsilon: 1e-07\n",
      "WARNING:tensorflow:Cannot update non-variable config: epsilon\n"
     ]
    }
   ],
   "source": [
    "# Because I have issues with my batch_size when doing the predict method with the tpu_model, I'm using the CPU for the prediction\n",
    "cpu_model = tpu_model.sync_to_cpu()"
   ]
  },
  {
   "cell_type": "code",
   "execution_count": 0,
   "metadata": {
    "colab": {},
    "colab_type": "code",
    "id": "f_ADCs7uFW8m"
   },
   "outputs": [],
   "source": [
    "note_l = []\n",
    "\n",
    "prediction_l = []\n",
    "\n",
    "# generate T_y_generated notes\n",
    "for note_index in range(T_y_generated):\n",
    "\n",
    "    prediction_input = np.expand_dims(pattern, 0)\n",
    "    prediction = cpu_model.predict(prediction_input)\n",
    "    prediction_l.append(prediction)\n",
    "    note_l.append(np.argmax(prediction))\n",
    "    \n",
    "    pattern = np.vstack((pattern,prediction))\n",
    "    pattern = pattern[1:len(pattern),:]\n",
    "    "
   ]
  },
  {
   "cell_type": "markdown",
   "metadata": {
    "colab_type": "text",
    "id": "stQscvNOg0xd"
   },
   "source": [
    "### Display the generated sequence"
   ]
  },
  {
   "cell_type": "code",
   "execution_count": 44,
   "metadata": {
    "colab": {
     "base_uri": "https://localhost:8080/",
     "height": 415
    },
    "colab_type": "code",
    "executionInfo": {
     "elapsed": 983,
     "status": "ok",
     "timestamp": 1551893257904,
     "user": {
      "displayName": "David TANG",
      "photoUrl": "https://lh3.googleusercontent.com/-L1QWktrsYtA/AAAAAAAAAAI/AAAAAAAAB2w/KcoafjMd1MI/s64/photo.jpg",
      "userId": "06191415792561430410"
     },
     "user_tz": -60
    },
    "id": "c9IOPPiuLuHE",
    "outputId": "e9be1fc8-da50-405b-fd55-8269d3407ec9"
   },
   "outputs": [
    {
     "name": "stdout",
     "output_type": "stream",
     "text": [
      "[62, 61, 59, 57, 55, 54, 55, 57, 55, 54, 52, 50, 49, 47, 45, 47, 50, 52, 54, 55, 54, 52, 50, 49, 50, 52, 49, 45, 43, 42, 45, 47, 49, 50, 60, 43, 59, 52, 50, 40, 43, 45, 47, 49, 59, 42, 57, 50, 49, 38, 42, 43, 45, 47, 57, 40, 55, 49, 57, 55, 54, 52, 50, 54, 52, 50, 49, 52, 50, 52, 49, 50, 52, 50, 49, 47, 45, 47, 49, 50, 52, 54, 55, 52, 54, 52, 50, 52, 54, 52, 50, 49, 47, 49, 50, 52, 54, 56, 57, 54, 56, 54, 52, 54, 56, 54, 52, 50, 49, 59, 42, 45, 47, 49, 50, 61, 59, 57, 56, 54, 52, 62, 45, 49, 50, 52, 54, 64, 62, 61, 59, 57, 56, 66, 64, 62, 61, 59, 57, 55, 54, 52, 50, 49, 47, 45, 44, 50, 54, 52, 50, 49, 47, 45, 49, 47, 45, 44, 47, 45, 49, 47, 45, 47, 50, 49, 47, 49, 50, 52, 54, 55, 45, 38, 55, 54, 52, 50, 49, 47, 49, 50, 52, 54, 57, 56, 57, 59, 57, 56, 54, 52, 50, 49, 47, 45, 49, 47, 45, 44]\n"
     ]
    },
    {
     "data": {
      "image/png": "[encoded data removed]",
      "text/plain": [
       "<Figure size 1152x432 with 1 Axes>"
      ]
     },
     "metadata": {
      "tags": []
     },
     "output_type": "display_data"
    }
   ],
   "source": [
    "print(note_l)\n",
    "\n",
    "plt.figure(figsize=(16, 6))\n",
    "plt.imshow(np.asarray(prediction_l)[:,0,:].T, aspect='auto')\n",
    "plt.plot(note_l)\n",
    "plt.set_cmap('gray_r')\n",
    "plt.grid(True)"
   ]
  },
  {
   "cell_type": "markdown",
   "metadata": {
    "colab_type": "text",
    "id": "ZwM6osfDg5E0"
   },
   "source": [
    "### Create a MIDI file and an audio file which correspond to the generated sequence\n",
    "\n",
    "Once the new sequence has been generated (```note_l```) we transform it to a new MIDI file and perform (a very cheap) rendering of it in an audio file."
   ]
  },
  {
   "cell_type": "code",
   "execution_count": 45,
   "metadata": {
    "colab": {
     "base_uri": "https://localhost:8080/",
     "height": 75,
     "output_embedded_package_id": "1SuSIOnEn1WLDAgyLoeTrgKAv7BgwOByb"
    },
    "colab_type": "code",
    "executionInfo": {
     "elapsed": 4227,
     "status": "ok",
     "timestamp": 1551893265405,
     "user": {
      "displayName": "David TANG",
      "photoUrl": "https://lh3.googleusercontent.com/-L1QWktrsYtA/AAAAAAAAAAI/AAAAAAAAB2w/KcoafjMd1MI/s64/photo.jpg",
      "userId": "06191415792561430410"
     },
     "user_tz": -60
    },
    "id": "8cpTszOFID51",
    "outputId": "ca4afffe-d8c3-4be2-996e-9b3321b840a4"
   },
   "outputs": [
    {
     "data": {
      "text/plain": [
       "Output hidden; open in https://colab.research.google.com to view."
      ]
     },
     "metadata": {},
     "output_type": "display_data"
    }
   ],
   "source": [
    "new_midi_data = pretty_midi.PrettyMIDI()\n",
    "cello_program = pretty_midi.instrument_name_to_program('Cello')\n",
    "cello = pretty_midi.Instrument(program=cello_program)\n",
    "time = 0\n",
    "step = 0.3\n",
    "for note_number in note_l:\n",
    "    myNote = pretty_midi.Note(velocity=100, pitch=note_number, start=time, end=time+step)\n",
    "    cello.notes.append(myNote)\n",
    "    time += step\n",
    "new_midi_data.instruments.append(cello)\n",
    "%matplotlib inline\n",
    "\n",
    "audio_data = new_midi_data.synthesize()\n",
    "IPython.display.Audio(audio_data, rate=44100)"
   ]
  }
 ],
 "metadata": {
  "accelerator": "TPU",
  "colab": {
   "collapsed_sections": [],
   "name": "Copie de Copie de 2.TPRNNBachsimpleforstudents.ipynb",
   "provenance": [
    {
     "file_id": "1vS_S9CO0SkvhP3Nb_xz3ys3vcAD8CzBb",
     "timestamp": 1551713713950
    },
    {
     "file_id": "13jWt6M7IPLs3PNfGdVdQbWNX6gZ4udmE",
     "timestamp": 1551658134400
    }
   ],
   "version": "0.3.2"
  },
  "kernelspec": {
   "display_name": "Python 3",
   "language": "python",
   "name": "python3"
  },
  "language_info": {
   "codemirror_mode": {
    "name": "ipython",
    "version": 3
   },
   "file_extension": ".py",
   "mimetype": "text/x-python",
   "name": "python",
   "nbconvert_exporter": "python",
   "pygments_lexer": "ipython3",
   "version": "3.6.7"
  }
 },
 "nbformat": 4,
 "nbformat_minor": 1
}
